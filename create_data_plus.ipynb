{
 "cells": [
  {
   "cell_type": "code",
   "execution_count": 1,
   "metadata": {},
   "outputs": [],
   "source": [
    "import numpy as np\n",
    "import pandas as pd"
   ]
  },
  {
   "cell_type": "code",
   "execution_count": 2,
   "metadata": {},
   "outputs": [],
   "source": [
    "list_tar=[(1,2),(1,3),(1,4),(1,5),(1,6),(2,3),(2,4),(2,5),(2,6),(3,4),(3,5),(3,6),(4,5),(4,6),(5,6)]"
   ]
  },
  {
   "cell_type": "code",
   "execution_count": 3,
   "metadata": {},
   "outputs": [],
   "source": [
    "from random import choice\n",
    "from itertools import combinations\n",
    "def form_tri(lst: list,inp: set):\n",
    "    line_list=[x for x in lst+[inp] if x != -1]\n",
    "    combs = list(combinations(line_list, 3))\n",
    "    for comb in combs:\n",
    "        (a,b),(c,d),(e,f)=comb\n",
    "        if len(set([a,b,c,d,e,f]))==3:\n",
    "            return True\n",
    "    return False\n",
    "def create_one_sample():\n",
    "    output=[]\n",
    "    for i in range(4):\n",
    "        pick=choice([x for x in list_tar if x not in output])\n",
    "        output.append(pick)\n",
    "    for i in range(5):\n",
    "        temp_list=[x for x in list_tar if x not in output]\n",
    "        temp_list1=temp_list.copy()\n",
    "        for j in range(len(temp_list)):\n",
    "            if form_tri(output[::2],temp_list[j]):\n",
    "                temp_list1.remove(temp_list[j])\n",
    "        if temp_list1==[]:\n",
    "            pick=choice([x for x in list_tar if x not in output])\n",
    "        else:\n",
    "            pick=choice(temp_list1)\n",
    "        output.append(pick)\n",
    "        temp_list=[x for x in list_tar if x not in output]\n",
    "        temp_list1=temp_list.copy()\n",
    "        for j in range(len(temp_list)):\n",
    "            if form_tri(output[1::2],temp_list[j]):\n",
    "                temp_list1.remove(temp_list[j])\n",
    "        if temp_list1==[]:\n",
    "            pick=choice([x for x in list_tar if x not in output])\n",
    "        else:\n",
    "            pick=choice(temp_list1)\n",
    "        output.append(pick)\n",
    "    pick=choice([x for x in list_tar if x not in output])\n",
    "    output.append(pick)\n",
    "    return output"
   ]
  },
  {
   "cell_type": "code",
   "execution_count": 4,
   "metadata": {},
   "outputs": [],
   "source": [
    "games=[create_one_sample()]\n",
    "game=games[0]\n",
    "for i in range(int(5e4)-1):\n",
    "    while game in games:\n",
    "        game=create_one_sample()\n",
    "    games.append(game)"
   ]
  },
  {
   "cell_type": "code",
   "execution_count": 5,
   "metadata": {},
   "outputs": [],
   "source": [
    "from itertools import combinations\n",
    "def find_pos(inp_list):\n",
    "    for i in range(2,7):\n",
    "        lst=inp_list[:i+1]\n",
    "        combs = list(combinations(lst, 3))\n",
    "        combs=sorted(combs)\n",
    "        for comb in combs:\n",
    "            (a,b),(c,d),(e,f)=comb\n",
    "            if len(set([a,b,c,d,e,f]))==3:\n",
    "                return i\n",
    "    return 7"
   ]
  },
  {
   "cell_type": "code",
   "execution_count": 6,
   "metadata": {},
   "outputs": [],
   "source": [
    "# 0 stands for the the player one win, 1 stands for the player two win\n",
    "def determine_winner(inp_list):\n",
    "    pos_1=find_pos(inp_list[::2])\n",
    "    pos_2=find_pos(inp_list[1::2])\n",
    "    if pos_1<=pos_2:\n",
    "        return 1\n",
    "    else:\n",
    "        return 0"
   ]
  },
  {
   "cell_type": "code",
   "execution_count": 7,
   "metadata": {},
   "outputs": [
    {
     "name": "stdout",
     "output_type": "stream",
     "text": [
      "24906\n"
     ]
    }
   ],
   "source": [
    "train_original=[]\n",
    "for game in games:\n",
    "    if determine_winner(game)==1:\n",
    "        pos=find_pos(game[::2])\n",
    "        game_parsed=game.copy()\n",
    "        game_parsed[2*pos+1:]=[-1]*len(game_parsed[2*pos+1:])\n",
    "        train_original.append(game_parsed)\n",
    "print(len(train_original))\n",
    "        "
   ]
  },
  {
   "cell_type": "code",
   "execution_count": 8,
   "metadata": {},
   "outputs": [],
   "source": [
    "enu=enumerate(list_tar)\n",
    "encode_dict={tar:idx for idx,tar in enu}\n",
    "encode_dict[-1]=-1\n",
    "def encode(inp_list):\n",
    "    return [encode_dict[tar] for tar in inp_list]\n",
    "decode_dict={idx:tar for idx,tar in enu}\n",
    "decode_dict[-1]=-1\n",
    "def decode(inp_list):\n",
    "    return [decode_dict[tar] for tar in inp_list]"
   ]
  },
  {
   "cell_type": "code",
   "execution_count": 9,
   "metadata": {},
   "outputs": [],
   "source": [
    "train_encode=[encode(game) for game in train_original]"
   ]
  },
  {
   "cell_type": "code",
   "execution_count": 10,
   "metadata": {},
   "outputs": [
    {
     "data": {
      "text/plain": [
       "[9, 13, 4, 0, 5, 1, 12, 2, 8, 10, 3, 7, 6, -1, -1]"
      ]
     },
     "execution_count": 10,
     "metadata": {},
     "output_type": "execute_result"
    }
   ],
   "source": [
    "sample_game=train_encode[0]\n",
    "sample_game"
   ]
  },
  {
   "cell_type": "code",
   "execution_count": 11,
   "metadata": {},
   "outputs": [],
   "source": [
    "def break_down_train(game):\n",
    "    output_list_input=[]\n",
    "    output_list_label=[]\n",
    "    for i in range(0,len(game)-1,2):\n",
    "        if game[min(i+2,14)]==-1:\n",
    "            break  \n",
    "        output_list_input.append(game[:i+1]+[-1]*(15-i-1))\n",
    "        output_list_label.append(game[i+1])\n",
    "    return output_list_input,output_list_label"
   ]
  },
  {
   "cell_type": "code",
   "execution_count": 12,
   "metadata": {},
   "outputs": [
    {
     "data": {
      "text/plain": [
       "([[9, -1, -1, -1, -1, -1, -1, -1, -1, -1, -1, -1, -1, -1, -1],\n",
       "  [9, 13, 4, -1, -1, -1, -1, -1, -1, -1, -1, -1, -1, -1, -1],\n",
       "  [9, 13, 4, 0, 5, -1, -1, -1, -1, -1, -1, -1, -1, -1, -1],\n",
       "  [9, 13, 4, 0, 5, 1, 12, -1, -1, -1, -1, -1, -1, -1, -1],\n",
       "  [9, 13, 4, 0, 5, 1, 12, 2, 8, -1, -1, -1, -1, -1, -1],\n",
       "  [9, 13, 4, 0, 5, 1, 12, 2, 8, 10, 3, -1, -1, -1, -1]],\n",
       " [13, 0, 1, 2, 10, 7])"
      ]
     },
     "execution_count": 12,
     "metadata": {},
     "output_type": "execute_result"
    }
   ],
   "source": [
    "break_down_train(sample_game)"
   ]
  },
  {
   "cell_type": "code",
   "execution_count": 38,
   "metadata": {},
   "outputs": [],
   "source": [
    "train_input=[]\n",
    "train_label=[]\n",
    "for game in train_encode:\n",
    "    inp,label=break_down_train(game)\n",
    "    train_input.extend(inp)\n",
    "    train_label.extend(label)\n",
    "import torch\n",
    "train_label_tensor = torch.tensor(train_label)\n",
    "train_label_encoded = torch.nn.functional.one_hot(train_label_tensor).tolist()\n",
    "train_label=train_label_encoded\n",
    "train_input_new=[]\n",
    "train_label_new=[]\n",
    "for i in range(len(train_label)):\n",
    "    if train_input[i] not in train_input_new:\n",
    "        train_input_new.append(train_input[i])\n",
    "        train_label_new.append(train_label[i])\n",
    "    else:\n",
    "        idx=train_input_new.index(train_input[i])\n",
    "        train_label_new[idx]=[train_label_new[idx][j]+train_label[i][j] for j in range(15)]"
   ]
  },
  {
   "cell_type": "code",
   "execution_count": 39,
   "metadata": {},
   "outputs": [],
   "source": [
    "for i in range(len(train_label_new)):\n",
    "    sum1=sum(train_label_new[i])\n",
    "    train_label_new[i]=[train_label_new[i][j]/sum1 for j in range(len(train_label_new[i]))]"
   ]
  },
  {
   "cell_type": "code",
   "execution_count": 40,
   "metadata": {},
   "outputs": [],
   "source": [
    "\n",
    "data={}\n",
    "for i in range(15):\n",
    "    data['label_'+str(i)]=[inp1[i] for inp1 in train_label_new]\n",
    "for i in range(15):\n",
    "    data['input_'+str(i)]=[inp[i] for inp in train_input_new]\n",
    "df=pd.DataFrame(data)\n",
    "df.to_csv('train_one_hotted.csv')"
   ]
  }
 ],
 "metadata": {
  "kernelspec": {
   "display_name": "project2",
   "language": "python",
   "name": "python3"
  },
  "language_info": {
   "codemirror_mode": {
    "name": "ipython",
    "version": 3
   },
   "file_extension": ".py",
   "mimetype": "text/x-python",
   "name": "python",
   "nbconvert_exporter": "python",
   "pygments_lexer": "ipython3",
   "version": "3.11.4"
  }
 },
 "nbformat": 4,
 "nbformat_minor": 2
}
